{
 "cells": [
  {
   "cell_type": "code",
   "execution_count": 1,
   "metadata": {
    "collapsed": true
   },
   "outputs": [],
   "source": [
    "# packages\n",
    "import os\n",
    "import re\n",
    "from pdfminer.pdfinterp import PDFResourceManager, PDFPageInterpreter\n",
    "from pdfminer.pdfpage import PDFPage\n",
    "from pdfminer.converter import TextConverter\n",
    "from pdfminer.layout import LAParams"
   ]
  },
  {
   "cell_type": "code",
   "execution_count": 4,
   "metadata": {},
   "outputs": [],
   "source": [
    "# https://blog.csdn.net/Fighting_No1/article/details/51038942\n",
    "# 只改一個檔案: pdf --> txt\n",
    "def pdfTotxt(filepath, outputpath):\n",
    "    try:\n",
    "        fp = file(filepath, 'rb')\n",
    "        outfp = file(outputpath, 'w')\n",
    "        rsrcmgr = PDFResourceManager(caching = False)\n",
    "        laparams = LAParams()\n",
    "        device = TextConverter(rsrcmgr, outfp, codec = 'utf-8', laparams = laparams, \\\n",
    "                              imagewriter = None)\n",
    "        interpreter = PDFPageInterpreter(rsrcmgr, device)\n",
    "        for page in PDFPage.get_pages(fp, pagenos = set(), maxpages = 0, password = '',\\\n",
    "                                     caching = False, check_extractable = True):\n",
    "            page.rotate = page.rotate % 360\n",
    "            interpreter.process_page(page)\n",
    "            \n",
    "        fp.close()\n",
    "        device.close()\n",
    "        outfp.flush()\n",
    "        outfp.close()\n",
    "    except Exception, e:\n",
    "        print \"Exception:%s\", e\n",
    "    \n",
    "pdfTotxt(\"/Users/eve/Dropbox/學習/5_Pdfminer/pdf/Real-world_Data_is_Dirty_Data_Cleansing_and_The_Me.pdf\", \\\n",
    "         \"/Users/eve/Dropbox/學習/5_Pdfminer/text/test.txt\")"
   ]
  },
  {
   "cell_type": "code",
   "execution_count": null,
   "metadata": {
    "collapsed": true
   },
   "outputs": [],
   "source": []
  },
  {
   "cell_type": "code",
   "execution_count": 11,
   "metadata": {},
   "outputs": [],
   "source": [
    "# https://blog.csdn.net/u010983763/article/details/78654651\n",
    "# 1. 基本解析 pdf\n",
    "from pdfminer.pdfparser import PDFParser\n",
    "from pdfminer.pdfdocument import PDFDocument\n",
    "from pdfminer.pdfdevice import PDFDevice\n",
    "\n",
    "fp = open('/Users/eve/Dropbox/學習/5_Pdfminer/pdf/daad.pdf', 'rb')\n",
    "parser = PDFParser(fp)\n",
    "document = PDFDocument(parser)\n",
    "rsrcmgr = PDFResourceManager()\n",
    "device = PDFDevice(rsrcmgr)\n",
    "interpreter = PDFPageInterpreter(rsrcmgr, device)\n",
    "\n",
    "if not document.is_extractable:\n",
    "    raise PDFTextExtractionNotAllowed\n",
    "    \n",
    "for page in PDFPage.create_pages(document):\n",
    "    interpreter.process_page(page)"
   ]
  },
  {
   "cell_type": "code",
   "execution_count": 12,
   "metadata": {
    "collapsed": true
   },
   "outputs": [],
   "source": [
    "# https://blog.csdn.net/u010983763/article/details/78654651\n",
    "# 2. 佈局分析 pdf\n",
    "from pdfminer.pdfparser import PDFParser\n",
    "from pdfminer.pdfdocument import PDFDocument\n",
    "from pdfminer.pdfdevice import PDFDevice\n",
    "from pdfminer.layout import LAParams\n",
    "from pdfminer.converter import PDFPageAggregator\n",
    "    \n",
    "fp = open('/Users/eve/Dropbox/學習/5_Pdfminer/pdf/daad.pdf', 'rb')\n",
    "parser = PDFParser(fp)\n",
    "document = PDFDocument(parser)\n",
    "laparams = LAParams()\n",
    "rsrcmgr = PDFResourceManager()\n",
    "#device = PDFDevice(rsrcmgr)\n",
    "device = PDFPageAggregator(rsrcmgr, laparams = laparams)\n",
    "interpreter = PDFPageInterpreter(rsrcmgr, device)\n",
    "\n",
    "if not document.is_extractable:\n",
    "    raise PDFTextExtractionNotAllowed\n",
    "    \n",
    "for page in PDFPage.create_pages(document):\n",
    "    interpreter.process_page(page)\n",
    "    layout = device.get_result()"
   ]
  },
  {
   "cell_type": "code",
   "execution_count": 14,
   "metadata": {},
   "outputs": [],
   "source": [
    "# Succeed\n",
    "\n",
    "import os\n",
    "from pdfminer.layout import *\n",
    "\n",
    "os.chdir(r'/Users/eve/Dropbox/學習/5_Pdfminer/pdf')\n",
    "fp = open('daad.pdf', 'rb')\n",
    "parser = PDFParser(fp)\n",
    "document = PDFDocument(parser)\n",
    "\n",
    "if not document.is_extractable:\n",
    "    raise PDFTextExtractionNotAllowed\n",
    "else:\n",
    "    rsrcmgr = PDFResourceManager()\n",
    "    laparams = LAParams()\n",
    "    device = PDFPageAggregator(rsrcmgr, laparams = laparams)\n",
    "    interpreter = PDFPageInterpreter(rsrcmgr, device)\n",
    "    \n",
    "    for page in PDFPage.create_pages(document):\n",
    "        interpreter.process_page(page)\n",
    "        layout = device.get_result() # 接受该页面的LTPage对象\n",
    "        for x in layout:\n",
    "            if(isinstance(x, LTTextBoxHorizontal)):\n",
    "                with open('a.txt', 'a') as f:\n",
    "                    f.write(x.get_text().encode('utf-8') + \"\\n\")"
   ]
  },
  {
   "cell_type": "code",
   "execution_count": 21,
   "metadata": {},
   "outputs": [
    {
     "name": "stdout",
     "output_type": "stream",
     "text": [
      "1 Table of Contents\n",
      "1 Introduction\n",
      "2 The demand for information on opinions and sentiment\n",
      "2 What might be involved? An example examination of the construction of an opinion/review search engine\n",
      "2 Our charge and approach\n",
      "2 Early history\n",
      "2 A note on terminology: Opinion mining, sentiment analysis, subjectivity, and all that\n",
      "1 Applications\n",
      "2 Applications to review-related websites\n",
      "2 Applications as a sub-component technology\n",
      "2 Applications in business and government intelligence\n",
      "2 Applications across different domains\n",
      "1 General challenges\n",
      "2 Contrasts with standard fact-based textual analysis\n",
      "2 Factors that make opinion mining difficult\n",
      "1 Classification and extraction\n",
      "2 Part One: Fundamentals\n",
      "2 Problem formulations and key concepts\n",
      "3 Sentiment polarity and degrees of positivity\n",
      "3 Subjectivity detection and opinion identification\n",
      "3 Joint topic-sentiment analysis\n",
      "3 Viewpoints and perspectives\n",
      "3 Other non-factual information in text\n",
      "2 Features\n",
      "3 Term presence vs. frequency\n",
      "3 Term-based features beyond term unigrams\n",
      "3 Parts of speech\n",
      "3 Syntax\n",
      "3 Negation\n",
      "3 Topic-oriented features\n",
      "2 Part Two: Approaches\n",
      "2 The impact of labeled data\n",
      "2 Domain adaptation and topic-sentiment interaction\n",
      "3 Domain considerations\n",
      "3 Topic (and sub-topic or feature) considerations\n",
      "2 Unsupervised approaches\n",
      "3 Unsupervised lexicon induction\n",
      "3 Other unsupervised approaches\n",
      "2 Classification based on relationship information\n",
      "3 Relationships between sentences and between documents\n",
      "3 Relationships between discourse participants\n",
      "3 Relationships between product features\n",
      "3 Relationships between classes\n",
      "2 Incorporating discourse structure\n",
      "2 Language models\n",
      "2 Special considerations for extraction\n",
      "3 Identifying product features and opinions in reviews\n",
      "3 Problems involving opinion holders\n",
      "1 Summarization\n",
      "2 Single-document opinion-oriented summarization\n",
      "2 Multi-document opinion-oriented summarization\n",
      "3 Some problem considerations\n",
      "3 Textual summaries\n",
      "3 Non-textual summaries\n",
      "3 Review(er) quality\n",
      "1 Broader implications\n",
      "2 Economic impact of reviews\n",
      "3 Surveys summarizing relevant economic literature\n",
      "3 Economic-impact studies employing automated text analysis\n",
      "3 Interactions with word of mouth (WOM)\n",
      "2 Implications for manipulation\n",
      "1 Publicly available resources\n",
      "2 Datasets\n",
      "3 Acquiring labels for data\n",
      "3 An annotated list of datasets\n",
      "2 Evaluation campaigns\n",
      "3 TREC opinion-related competitions\n",
      "3 NTCIR opinion-related competitions\n",
      "2 Lexical resources\n",
      "2 Tutorials, bibliographies, and other references\n",
      "1 Concluding remarks\n",
      "1 References\n"
     ]
    }
   ],
   "source": [
    "# 獲得目錄\n",
    "fp = open('/Users/eve/Dropbox/學習/5_Pdfminer/pdf/omsa.pdf', 'rb')\n",
    "parser = PDFParser(fp)\n",
    "document = PDFDocument(parser)\n",
    "\n",
    "outlines = document.get_outlines()\n",
    "for (level, title, dest, a, se) in outlines:\n",
    "    print level, title"
   ]
  },
  {
   "cell_type": "code",
   "execution_count": null,
   "metadata": {
    "collapsed": true
   },
   "outputs": [],
   "source": []
  },
  {
   "cell_type": "code",
   "execution_count": null,
   "metadata": {
    "collapsed": true
   },
   "outputs": [],
   "source": []
  },
  {
   "cell_type": "code",
   "execution_count": null,
   "metadata": {
    "collapsed": true
   },
   "outputs": [],
   "source": []
  },
  {
   "cell_type": "code",
   "execution_count": null,
   "metadata": {
    "collapsed": true
   },
   "outputs": [],
   "source": []
  },
  {
   "cell_type": "code",
   "execution_count": null,
   "metadata": {
    "collapsed": true
   },
   "outputs": [],
   "source": []
  },
  {
   "cell_type": "code",
   "execution_count": null,
   "metadata": {
    "collapsed": true
   },
   "outputs": [],
   "source": []
  },
  {
   "cell_type": "code",
   "execution_count": 7,
   "metadata": {},
   "outputs": [
    {
     "ename": "TypeError",
     "evalue": "pdfTotxt() takes exactly 1 argument (2 given)",
     "output_type": "error",
     "traceback": [
      "\u001b[0;31m---------------------------------------------------------------------------\u001b[0m",
      "\u001b[0;31mTypeError\u001b[0m                                 Traceback (most recent call last)",
      "\u001b[0;32m<ipython-input-7-af02b037b9fc>\u001b[0m in \u001b[0;36m<module>\u001b[0;34m()\u001b[0m\n\u001b[1;32m     11\u001b[0m         \u001b[0;32mprint\u001b[0m \u001b[0;34m\"Saved\"\u001b[0m \u001b[0;34m+\u001b[0m \u001b[0moutPath\u001b[0m\u001b[0;34m\u001b[0m\u001b[0m\n\u001b[1;32m     12\u001b[0m \u001b[0;34m\u001b[0m\u001b[0m\n\u001b[0;32m---> 13\u001b[0;31m \u001b[0mpdfTotxt\u001b[0m\u001b[0;34m(\u001b[0m\u001b[0;34m\"/Users/eve/Dropbox/學習/5_Pdfminer/pdf\"\u001b[0m\u001b[0;34m)\u001b[0m\u001b[0;34m\u001b[0m\u001b[0m\n\u001b[0m",
      "\u001b[0;32m<ipython-input-7-af02b037b9fc>\u001b[0m in \u001b[0;36mpdfTotxt\u001b[0;34m(fileDir)\u001b[0m\n\u001b[1;32m      8\u001b[0m         \u001b[0mfilePath\u001b[0m \u001b[0;34m=\u001b[0m \u001b[0mfileDir\u001b[0m \u001b[0;34m+\u001b[0m \u001b[0;34m'\\\\'\u001b[0m \u001b[0;34m+\u001b[0m \u001b[0mfile\u001b[0m\u001b[0;34m\u001b[0m\u001b[0m\n\u001b[1;32m      9\u001b[0m         \u001b[0moutPath\u001b[0m \u001b[0;34m=\u001b[0m \u001b[0mtarDir\u001b[0m \u001b[0;34m+\u001b[0m \u001b[0;34m'\\\\'\u001b[0m \u001b[0;34m+\u001b[0m \u001b[0mre\u001b[0m\u001b[0;34m.\u001b[0m\u001b[0msub\u001b[0m\u001b[0;34m(\u001b[0m\u001b[0mreplace\u001b[0m\u001b[0;34m,\u001b[0m \u001b[0;34m''\u001b[0m\u001b[0;34m,\u001b[0m \u001b[0mfile\u001b[0m\u001b[0;34m)\u001b[0m \u001b[0;34m+\u001b[0m \u001b[0;34m'.txt'\u001b[0m\u001b[0;34m\u001b[0m\u001b[0m\n\u001b[0;32m---> 10\u001b[0;31m         \u001b[0mpdfTotxt\u001b[0m\u001b[0;34m(\u001b[0m\u001b[0mfilePath\u001b[0m\u001b[0;34m,\u001b[0m \u001b[0moutPath\u001b[0m\u001b[0;34m)\u001b[0m\u001b[0;34m\u001b[0m\u001b[0m\n\u001b[0m\u001b[1;32m     11\u001b[0m         \u001b[0;32mprint\u001b[0m \u001b[0;34m\"Saved\"\u001b[0m \u001b[0;34m+\u001b[0m \u001b[0moutPath\u001b[0m\u001b[0;34m\u001b[0m\u001b[0m\n\u001b[1;32m     12\u001b[0m \u001b[0;34m\u001b[0m\u001b[0m\n",
      "\u001b[0;31mTypeError\u001b[0m: pdfTotxt() takes exactly 1 argument (2 given)"
     ]
    }
   ],
   "source": [
    "#一个文件夹下的所有pdf文档转换成txt Failed\n",
    "def pdfTotxt(fileDir):\n",
    "    files = os.listdir(fileDir)\n",
    "    tarDir = fileDir + 'txt'\n",
    "    if not os.path.exists(tarDir):\n",
    "        os.mkdir(tarDir)\n",
    "    replace = re.compile(r'\\.pdf', re.I)\n",
    "    for file in files:\n",
    "        filePath = fileDir + '\\\\' + file\n",
    "        outPath = tarDir + '\\\\' + re.sub(replace, '', file) + '.txt'\n",
    "        pdfTotxt(filePath, outPath)\n",
    "        print \"Saved\" + outPath\n",
    "\n",
    "pdfTotxt(\"/Users/eve/Dropbox/學習/5_Pdfminer/pdf\")"
   ]
  },
  {
   "cell_type": "code",
   "execution_count": null,
   "metadata": {
    "collapsed": true
   },
   "outputs": [],
   "source": []
  },
  {
   "cell_type": "code",
   "execution_count": null,
   "metadata": {
    "collapsed": true
   },
   "outputs": [],
   "source": [
    "#一个文件夹下的所有pdf文档转换成txt\n",
    "def pdfTotxt(fileDir):\n",
    "    files=os.listdir(fileDir)\n",
    "    tarDir=fileDir+'txt'\n",
    "    if not os.path.exists(tarDir):\n",
    "        os.mkdir(tarDir)\n",
    "    replace=re.compile(r'\\.pdf',re.I)\n",
    "    for file in files:\n",
    "        filePath=fileDir+'\\\\'+file\n",
    "        outPath=tarDir+'\\\\'+re.sub(replace,'',file)+'.txt'\n",
    "        pdfTotxt(filePath,outPath)\n",
    "        print \"Saved \"+outPath"
   ]
  }
 ],
 "metadata": {
  "kernelspec": {
   "display_name": "Python 2",
   "language": "python",
   "name": "python2"
  },
  "language_info": {
   "codemirror_mode": {
    "name": "ipython",
    "version": 2
   },
   "file_extension": ".py",
   "mimetype": "text/x-python",
   "name": "python",
   "nbconvert_exporter": "python",
   "pygments_lexer": "ipython2",
   "version": "2.7.14"
  }
 },
 "nbformat": 4,
 "nbformat_minor": 2
}
