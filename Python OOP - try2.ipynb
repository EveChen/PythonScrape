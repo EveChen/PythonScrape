{
 "cells": [
  {
   "cell_type": "code",
   "execution_count": 1,
   "metadata": {
    "collapsed": true
   },
   "outputs": [],
   "source": [
    "#Python OOP 1 - Classes and Instances\n",
    "#Python OOP 2 - Class Variables: v.s. instance variables\n",
    "#Python OOP 3 - Classmethods and Staticmethods: \n",
    "# --> regular method(self), class method(cls), static method()\n",
    "#Python OOP 4 - Inheritance: super()\n",
    "#Python OOP 5 - Special (Magic/Dunder) Methods: __init__, __repr__, __str__\n",
    "#Python OOP 6 - Property Decorators: @property, @fullname.setter"
   ]
  },
  {
   "cell_type": "code",
   "execution_count": 5,
   "metadata": {
    "collapsed": false
   },
   "outputs": [
    {
     "name": "stdout",
     "output_type": "stream",
     "text": [
      "Eve.Chen@gmail.com\n",
      "Eve Chen\n"
     ]
    }
   ],
   "source": [
    "#1. Class\n",
    "\n",
    "class Employee:\n",
    "    def __init__(self, first, last, pay):\n",
    "        self.first = first\n",
    "        self.last = last\n",
    "        self.pay = pay\n",
    "        self.email = \"{}.{}@gmail.com\".format(self.first, self.last)\n",
    "        \n",
    "    def fullname(self):\n",
    "        return \"{} {}\".format(self.first, self.last)\n",
    "    \n",
    "emp1 = Employee(\"Eve\", \"Chen\", 120000)\n",
    "print(emp1.email)\n",
    "print emp1.fullname()"
   ]
  },
  {
   "cell_type": "code",
   "execution_count": 7,
   "metadata": {
    "collapsed": false
   },
   "outputs": [
    {
     "name": "stdout",
     "output_type": "stream",
     "text": [
      "120000\n",
      "126000\n"
     ]
    }
   ],
   "source": [
    "#2. Regular method & class variable\n",
    "\n",
    "class Employee:\n",
    "    raise_amt = 1.05\n",
    "    \n",
    "    def __init__(self, first, last, pay):\n",
    "        self.first = first\n",
    "        self.last = last\n",
    "        self.pay = pay\n",
    "        self.email = \"{}.{}@gmail.com\".format(self.first, self.last)\n",
    "        \n",
    "    def fullname(self):\n",
    "        return \"{} {}\".format(self.first, self.last)\n",
    "    \n",
    "    def raise_salary(self):\n",
    "        self.pay = int(self.pay * self.raise_amt)\n",
    "        \n",
    "emp1 = Employee(\"Eve\", \"Chen\", 120000)\n",
    "print emp1.pay\n",
    "emp1.raise_salary()\n",
    "print emp1.pay"
   ]
  },
  {
   "cell_type": "code",
   "execution_count": 20,
   "metadata": {
    "collapsed": false
   },
   "outputs": [
    {
     "name": "stdout",
     "output_type": "stream",
     "text": [
      "3\n"
     ]
    }
   ],
   "source": [
    "#3. instance variable: 放在instance中的variable (num_of_emps)\n",
    "\n",
    "class Employee:\n",
    "    raise_amt = 1.05\n",
    "    num_of_emps = 0\n",
    "    \n",
    "    def __init__(self, first, last, pay):\n",
    "        self.first = first\n",
    "        self.last = last\n",
    "        self.pay = pay\n",
    "        self.email = \"{}.{}@gmail.com\".format(self.first, self.last)\n",
    "        \n",
    "        Employee.num_of_emps += 1\n",
    "        \n",
    "    def fullname(self):\n",
    "        return \"{} {}\".format(self.first, self.last)\n",
    "    \n",
    "emp1 = Employee(\"Eve\", \"Chen\", 120000)\n",
    "emp2 = Employee(\"Adam\", \"Schafer\", 150000)\n",
    "emp3 = Employee(\"Lila\", \"Rose\", 80000)\n",
    "\n",
    "print Employee.num_of_emps"
   ]
  },
  {
   "cell_type": "code",
   "execution_count": 16,
   "metadata": {
    "collapsed": false
   },
   "outputs": [
    {
     "name": "stdout",
     "output_type": "stream",
     "text": [
      "120000\n",
      "1.05\n",
      "1.05\n",
      "1.2\n",
      "1.2\n",
      "120000\n",
      "144000\n"
     ]
    }
   ],
   "source": [
    "#4. classmethod (normal): 用來細微調控某variable \n",
    "#(例如原本raise_amt是class variable, 現在用set_raise_amt去調整它)\n",
    "\n",
    "class Employee:\n",
    "    raise_amt = 1.05\n",
    "    \n",
    "    def __init__(self, first, last, pay):\n",
    "        self.first = first\n",
    "        self.last = last\n",
    "        self.pay = pay\n",
    "        self.email = \"{}.{}@gmail.com\".format(self.first, self.last)\n",
    "        \n",
    "    def fullname(self):\n",
    "        return \"{} {}\".format(self.first, self.last)\n",
    "    \n",
    "    def raise_salary(self):\n",
    "        self.pay = int(self.pay * self.raise_amt)\n",
    "        \n",
    "    @classmethod\n",
    "    def set_raise_amt(cls, amount):\n",
    "        cls.raise_amt = amount\n",
    "        \n",
    "emp1 = Employee(\"Eve\", \"Chen\", 120000)\n",
    "print emp1.pay\n",
    "print emp1.raise_amt\n",
    "print Employee.raise_amt\n",
    "emp1.set_raise_amt(1.20)\n",
    "print emp1.raise_amt\n",
    "print Employee.raise_amt\n",
    "print emp1.pay\n",
    "emp1.raise_salary()\n",
    "print emp1.pay"
   ]
  },
  {
   "cell_type": "code",
   "execution_count": 17,
   "metadata": {
    "collapsed": false
   },
   "outputs": [
    {
     "name": "stdout",
     "output_type": "stream",
     "text": [
      "John Doe\n"
     ]
    }
   ],
   "source": [
    "#5. classmethod: use as an alternative constructor\n",
    "\n",
    "class Employee:\n",
    "    raise_amt = 1.05\n",
    "    \n",
    "    def __init__(self, first, last, pay):\n",
    "        self.first = first\n",
    "        self.last = last\n",
    "        self.pay = pay\n",
    "        self.email = \"{}.{}@gmail.com\".format(self.first, self.last)\n",
    "        \n",
    "    def fullname(self):\n",
    "        return \"{} {}\".format(self.first, self.last)\n",
    "    \n",
    "    def raise_salary(self):\n",
    "        self.pay = int(self.pay * self.raise_amt)\n",
    "        \n",
    "    @classmethod\n",
    "    def from_string(cls, string):\n",
    "        first, last, pay = string.split(\"-\")\n",
    "        return cls(first, last, pay)\n",
    "\n",
    "    \n",
    "emp_str_1 = 'John-Doe-70000'\n",
    "emp_str_2 = 'Steve-Smith-30000'\n",
    "emp_str_3 = 'Jane-Doe-90000'    \n",
    "\n",
    "emp2 = Employee.from_string(emp_str_1)\n",
    "print emp2.fullname()"
   ]
  },
  {
   "cell_type": "code",
   "execution_count": 23,
   "metadata": {
    "collapsed": false
   },
   "outputs": [
    {
     "name": "stdout",
     "output_type": "stream",
     "text": [
      "True\n",
      "False\n"
     ]
    }
   ],
   "source": [
    "#6. staticmethod\n",
    "\n",
    "class Employee:\n",
    "    raise_amt = 1.05\n",
    "    num_of_emps = 0\n",
    "    \n",
    "    def __init__(self, first, last, pay):\n",
    "        self.first = first\n",
    "        self.last = last\n",
    "        self.pay = pay\n",
    "        self.email = \"{}.{}@gmail.com\".format(self.first, self.last)\n",
    "        Employee.num_of_emps += 1\n",
    "        \n",
    "    def fullname(self):\n",
    "        return \"{} {}\".format(self.first, self.last)\n",
    "    \n",
    "    def raise_salary(self):\n",
    "        self.pay = int(self.pay * self.raise_amt)\n",
    "        \n",
    "    @staticmethod\n",
    "    def date_is_workday(day):\n",
    "        if day.weekday() == 5 or day.weekday() == 6:\n",
    "            return False\n",
    "        return True\n",
    "    \n",
    "import datetime\n",
    "day = datetime.date(2018, 6, 5)\n",
    "day2 = datetime.date(2018, 6, 17)\n",
    "\n",
    "print Employee.date_is_workday(day)\n",
    "print Employee.date_is_workday(day2)"
   ]
  },
  {
   "cell_type": "code",
   "execution_count": 2,
   "metadata": {
    "collapsed": false
   },
   "outputs": [
    {
     "name": "stdout",
     "output_type": "stream",
     "text": [
      "Corey.Schafer@gmail.com\n"
     ]
    }
   ],
   "source": [
    "#7. inheritance\n",
    "\n",
    "class Employee:\n",
    "    raise_amt = 1.05\n",
    "    num_of_emps = 0\n",
    "    \n",
    "    def __init__(self, first, last, pay):\n",
    "        self.first = first\n",
    "        self.last = last\n",
    "        self.pay = pay\n",
    "        self.email = \"{}.{}@gmail.com\".format(self.first, self.last)\n",
    "        Employee.num_of_emps += 1\n",
    "        \n",
    "    def fullname(self):\n",
    "        return \"{} {}\".format(self.first, self.last)\n",
    "    \n",
    "class Developer(Employee):\n",
    "    raise_amt = 1.1\n",
    "    \n",
    "    def __init__(self, first, last, pay, prog):\n",
    "        super().__init__(first, last, pay)\n",
    "        self.prog = prog\n",
    "        \n",
    "        \n",
    "dev_1 = Developer('Corey', 'Schafer', 50000, 'Python')\n",
    "dev_2 = Developer('Test', 'Employee', 60000, 'Java')\n",
    "\n",
    "print(dev_1.email)"
   ]
  },
  {
   "cell_type": "code",
   "execution_count": 4,
   "metadata": {
    "collapsed": false
   },
   "outputs": [
    {
     "name": "stdout",
     "output_type": "stream",
     "text": [
      "Python\n",
      "Test.Employee@gmail.com\n",
      "Sue Smith\n",
      "-> Corey Schafer\n",
      "-> Corey Schafer\n",
      "-> Test Employee\n",
      "-> Test Employee\n"
     ]
    }
   ],
   "source": [
    "#8. inheritance: 當要寫其他類似的class時，可以先找其他相似的class，inh後再修改(override)\n",
    "\n",
    "class Employee:\n",
    "    raise_amt = 1.05\n",
    "    num_of_emps = 0\n",
    "    \n",
    "    def __init__(self, first, last, pay):\n",
    "        self.first = first\n",
    "        self.last = last\n",
    "        self.pay = pay\n",
    "        self.email = \"{}.{}@gmail.com\".format(self.first, self.last)\n",
    "        Employee.num_of_emps += 1\n",
    "        \n",
    "    def fullname(self):\n",
    "        return \"{} {}\".format(self.first, self.last)\n",
    "    \n",
    "class Developer(Employee):\n",
    "    raise_amt = 1.1\n",
    "    \n",
    "    def __init__(self, first, last, pay, prog):\n",
    "        super().__init__(first, last, pay)\n",
    "        self.prog = prog\n",
    "        \n",
    "class Manager(Employee):\n",
    "    riase_amt = 1.2\n",
    "    \n",
    "    def __init__(self, first, last, pay, empslist = None):\n",
    "        super().__init__(first, last, pay)\n",
    "        if empslist is None:\n",
    "            self.empslist = []\n",
    "        else:\n",
    "            self.empslist = empslist\n",
    "        \n",
    "    def add_emps(self, emps):\n",
    "        if emps not in self.empslist:\n",
    "            self.empslist.append(emps)\n",
    "    \n",
    "    def remove_emps(self, emps):\n",
    "        if emps in self.empslist:\n",
    "            self.empslist.remove(emps)\n",
    "            \n",
    "    def print_emps(self):\n",
    "        for emps in self.empslist:\n",
    "            print(\"->\", emps.fullname())\n",
    "            \n",
    "dev_1 = Developer('Corey', 'Schafer', 50000, 'Python')\n",
    "dev_2 = Developer('Test', 'Employee', 60000, 'Java')\n",
    "mgr_1 = Manager('Sue', 'Smith', 90000, [dev_1])\n",
    "\n",
    "print(dev_1.prog)\n",
    "print(dev_2.email)\n",
    "print(mgr_1.fullname())\n",
    "mgr_1.print_emps()\n",
    "mgr_1.add_emps(dev_2)\n",
    "mgr_1.print_emps()\n",
    "mgr_1.remove_emps(dev_1)\n",
    "mgr_1.print_emps()\n"
   ]
  },
  {
   "cell_type": "code",
   "execution_count": 8,
   "metadata": {
    "collapsed": false
   },
   "outputs": [
    {
     "name": "stdout",
     "output_type": "stream",
     "text": [
      "<__main__.Employee object at 0x1045b57b8>\n"
     ]
    }
   ],
   "source": [
    "#9. Special methods: __repr__, __str__ 當想要改變 return 值型態時用\n",
    "\n",
    "class Employee:\n",
    "    raise_amt = 1.5\n",
    "    \n",
    "    def __init__(self, first, last, pay):\n",
    "        self.first = first\n",
    "        self.last = last\n",
    "        self.pay = pay\n",
    "        self.email = \"{}.{}@gmail.com\".format(self.first, self.last)\n",
    "        \n",
    "    def fullname(self):\n",
    "        return \"{} {}\".format(self.first, self.last)\n",
    "    \n",
    "    \n",
    "emp_1 = Employee('Corey', 'Schafer', 50000)\n",
    "emp_2 = Employee('Test', 'Employee', 60000)\n",
    "print(emp_1)"
   ]
  },
  {
   "cell_type": "code",
   "execution_count": 12,
   "metadata": {
    "collapsed": false
   },
   "outputs": [
    {
     "name": "stdout",
     "output_type": "stream",
     "text": [
      "Employee('Corey', 'Schafer', '50000')\n"
     ]
    },
    {
     "data": {
      "text/plain": [
       "\"Employee('Corey', 'Schafer', '50000')\""
      ]
     },
     "execution_count": 12,
     "metadata": {},
     "output_type": "execute_result"
    }
   ],
   "source": [
    "class Employee:\n",
    "    raise_amt = 1.5\n",
    "    \n",
    "    def __init__(self, first, last, pay):\n",
    "        self.first = first\n",
    "        self.last = last\n",
    "        self.pay = pay\n",
    "        self.email = \"{}.{}@gmail.com\".format(self.first, self.last)\n",
    "        \n",
    "    def fullname(self):\n",
    "        return \"{} {}\".format(self.first, self.last)\n",
    "    \n",
    "    def __repr__(self):\n",
    "        return \"Employee('{}', '{}', '{}')\".format(self.first, self.last, self.pay)\n",
    "    \n",
    "emp_1 = Employee('Corey', 'Schafer', 50000)\n",
    "emp_2 = Employee('Test', 'Employee', 60000)\n",
    "print(emp_1)\n",
    "repr(emp_1)"
   ]
  },
  {
   "cell_type": "code",
   "execution_count": 13,
   "metadata": {
    "collapsed": false
   },
   "outputs": [
    {
     "name": "stdout",
     "output_type": "stream",
     "text": [
      "<__main__.Employee object at 0x1046924e0>\n"
     ]
    },
    {
     "data": {
      "text/plain": [
       "7"
      ]
     },
     "execution_count": 13,
     "metadata": {},
     "output_type": "execute_result"
    }
   ],
   "source": [
    "class Employee:\n",
    "    raise_amt = 1.5\n",
    "    \n",
    "    def __init__(self, first, last, pay):\n",
    "        self.first = first\n",
    "        self.last = last\n",
    "        self.pay = pay\n",
    "        self.email = \"{}.{}@gmail.com\".format(self.first, self.last)\n",
    "        \n",
    "    def fullname(self):\n",
    "        return \"{} {}\".format(self.first, self.last)\n",
    "    \n",
    "    def __len__(self):\n",
    "        return len(self.last)\n",
    "    \n",
    "emp_1 = Employee('Corey', 'Schafer', 50000)\n",
    "emp_2 = Employee('Test', 'Employee', 60000)\n",
    "print(emp_1)\n",
    "len(emp_1)"
   ]
  },
  {
   "cell_type": "code",
   "execution_count": 14,
   "metadata": {
    "collapsed": false
   },
   "outputs": [
    {
     "name": "stdout",
     "output_type": "stream",
     "text": [
      "Eve\n",
      "Eve Schafer\n",
      "Corey.Schafer@gmail.com\n"
     ]
    }
   ],
   "source": [
    "#10. decorator: 想改其中一部分的property\n",
    "\n",
    "class Employee:\n",
    "    \n",
    "    def __init__(self, first, last, pay):\n",
    "        self.first = first\n",
    "        self.last = last\n",
    "        self.pay = pay\n",
    "        self.email = \"{}.{}@gmail.com\".format(self.first, self.last)\n",
    "        \n",
    "    def fullname(self):\n",
    "        return \"{} {}\".format(self.first, self.last)\n",
    "\n",
    "emp_1 = Employee('Corey', 'Schafer', 50000)\n",
    "emp_1.first = \"Eve\"\n",
    "print(emp_1.first)\n",
    "print(emp_1.fullname())\n",
    "print(emp_1.email)  #沒有被改到"
   ]
  },
  {
   "cell_type": "code",
   "execution_count": 17,
   "metadata": {
    "collapsed": false
   },
   "outputs": [
    {
     "name": "stdout",
     "output_type": "stream",
     "text": [
      "Eve\n",
      "Eve Schafer\n",
      "Eve.Schafer@gmail.com\n"
     ]
    }
   ],
   "source": [
    "# 法一\n",
    "class Employee:\n",
    "    \n",
    "    def __init__(self, first, last, pay):\n",
    "        self.first = first\n",
    "        self.last = last\n",
    "        self.pay = pay\n",
    "\n",
    "    def email(self):\n",
    "        return \"{}.{}@gmail.com\".format(self.first, self.last)\n",
    "   \n",
    "    def fullname(self):\n",
    "        return \"{} {}\".format(self.first, self.last)\n",
    "\n",
    "emp_1 = Employee('Corey', 'Schafer', 50000)\n",
    "emp_1.first = \"Eve\"\n",
    "print(emp_1.first)\n",
    "print(emp_1.fullname())\n",
    "print(emp_1.email())  "
   ]
  },
  {
   "cell_type": "code",
   "execution_count": 18,
   "metadata": {
    "collapsed": false
   },
   "outputs": [
    {
     "name": "stdout",
     "output_type": "stream",
     "text": [
      "Eve\n",
      "Eve Schafer\n",
      "Eve.Schafer@gmail.com\n"
     ]
    }
   ],
   "source": [
    "# 法二: 用property, 讓email still be an attribute\n",
    "class Employee:\n",
    "    \n",
    "    def __init__(self, first, last, pay):\n",
    "        self.first = first\n",
    "        self.last = last\n",
    "        self.pay = pay\n",
    "    \n",
    "    @property\n",
    "    def email(self):\n",
    "        return \"{}.{}@gmail.com\".format(self.first, self.last)\n",
    "    @property\n",
    "    def fullname(self):\n",
    "        return \"{} {}\".format(self.first, self.last)\n",
    "\n",
    "emp_1 = Employee('Corey', 'Schafer', 50000)\n",
    "emp_1.first = \"Eve\"\n",
    "print(emp_1.first)\n",
    "print(emp_1.fullname) #注意這邊不用再(), 因為他是attribute(有加上@property) \n",
    "print(emp_1.email) #注意這邊不用再(), 因為他是attribute(有加上@property)  "
   ]
  },
  {
   "cell_type": "code",
   "execution_count": 19,
   "metadata": {
    "collapsed": false
   },
   "outputs": [
    {
     "ename": "AttributeError",
     "evalue": "can't set attribute",
     "output_type": "error",
     "traceback": [
      "\u001b[0;31m---------------------------------------------------------------------------\u001b[0m",
      "\u001b[0;31mAttributeError\u001b[0m                            Traceback (most recent call last)",
      "\u001b[0;32m<ipython-input-19-31507e45f2b5>\u001b[0m in \u001b[0;36m<module>\u001b[0;34m()\u001b[0m\n\u001b[1;32m     15\u001b[0m \u001b[0;34m\u001b[0m\u001b[0m\n\u001b[1;32m     16\u001b[0m \u001b[0memp_1\u001b[0m \u001b[0;34m=\u001b[0m \u001b[0mEmployee\u001b[0m\u001b[0;34m(\u001b[0m\u001b[0;34m'Corey'\u001b[0m\u001b[0;34m,\u001b[0m \u001b[0;34m'Schafer'\u001b[0m\u001b[0;34m,\u001b[0m \u001b[0;36m50000\u001b[0m\u001b[0;34m)\u001b[0m\u001b[0;34m\u001b[0m\u001b[0m\n\u001b[0;32m---> 17\u001b[0;31m \u001b[0memp_1\u001b[0m\u001b[0;34m.\u001b[0m\u001b[0mfullname\u001b[0m \u001b[0;34m=\u001b[0m \u001b[0;34m\"Eve Chen\"\u001b[0m\u001b[0;34m\u001b[0m\u001b[0m\n\u001b[0m\u001b[1;32m     18\u001b[0m \u001b[0mprint\u001b[0m\u001b[0;34m(\u001b[0m\u001b[0memp_1\u001b[0m\u001b[0;34m.\u001b[0m\u001b[0mfirst\u001b[0m\u001b[0;34m)\u001b[0m\u001b[0;34m\u001b[0m\u001b[0m\n\u001b[1;32m     19\u001b[0m \u001b[0mprint\u001b[0m\u001b[0;34m(\u001b[0m\u001b[0memp_1\u001b[0m\u001b[0;34m.\u001b[0m\u001b[0mfullname\u001b[0m\u001b[0;34m)\u001b[0m \u001b[0;31m#注意這邊不用再(), 因為他是attribute(有加上@property)\u001b[0m\u001b[0;34m\u001b[0m\u001b[0m\n",
      "\u001b[0;31mAttributeError\u001b[0m: can't set attribute"
     ]
    }
   ],
   "source": [
    "#11. decorator: 當想要直接改fullname的\"內容\"時無法改, 需要setter\n",
    "class Employee:\n",
    "    \n",
    "    def __init__(self, first, last, pay):\n",
    "        self.first = first\n",
    "        self.last = last\n",
    "        self.pay = pay\n",
    "    \n",
    "    @property\n",
    "    def email(self):\n",
    "        return \"{}.{}@gmail.com\".format(self.first, self.last)\n",
    "    @property\n",
    "    def fullname(self):\n",
    "        return \"{} {}\".format(self.first, self.last)\n",
    "\n",
    "emp_1 = Employee('Corey', 'Schafer', 50000)\n",
    "emp_1.fullname = \"Eve Chen\"\n",
    "print(emp_1.first)\n",
    "print(emp_1.fullname) #注意這邊不用再(), 因為他是attribute(有加上@property) \n",
    "print(emp_1.email)"
   ]
  },
  {
   "cell_type": "code",
   "execution_count": 20,
   "metadata": {
    "collapsed": false
   },
   "outputs": [
    {
     "name": "stdout",
     "output_type": "stream",
     "text": [
      "Eve\n",
      "Eve Chen\n",
      "Eve.Chen@gmail.com\n"
     ]
    }
   ],
   "source": [
    "\n",
    "class Employee:\n",
    "    \n",
    "    def __init__(self, first, last, pay):\n",
    "        self.first = first\n",
    "        self.last = last\n",
    "        self.pay = pay\n",
    "    \n",
    "    @property\n",
    "    def email(self):\n",
    "        return \"{}.{}@gmail.com\".format(self.first, self.last)\n",
    "    @property\n",
    "    def fullname(self):\n",
    "        return \"{} {}\".format(self.first, self.last)\n",
    "    \n",
    "    @fullname.setter\n",
    "    def fullname(self, name):\n",
    "        first, last = name.split(\" \")\n",
    "        self.first = first\n",
    "        self.last = last\n",
    "\n",
    "emp_1 = Employee('Corey', 'Schafer', 50000)\n",
    "emp_1.fullname = \"Eve Chen\"\n",
    "print(emp_1.first)\n",
    "print(emp_1.fullname) #注意這邊不用再(), 因為他是attribute(有加上@property) \n",
    "print(emp_1.email)"
   ]
  },
  {
   "cell_type": "code",
   "execution_count": 22,
   "metadata": {
    "collapsed": false
   },
   "outputs": [
    {
     "name": "stdout",
     "output_type": "stream",
     "text": [
      "Eve\n",
      "Eve Chen\n",
      "Eve.Chen@gmail.com\n",
      "Delete finished!\n",
      "None None\n",
      "None.None@gmail.com\n"
     ]
    }
   ],
   "source": [
    "#12. delete decorator\n",
    "class Employee:\n",
    "    \n",
    "    def __init__(self, first, last, pay):\n",
    "        self.first = first\n",
    "        self.last = last\n",
    "        self.pay = pay\n",
    "    \n",
    "    @property\n",
    "    def email(self):\n",
    "        return \"{}.{}@gmail.com\".format(self.first, self.last)\n",
    "    @property\n",
    "    def fullname(self):\n",
    "        return \"{} {}\".format(self.first, self.last)\n",
    "    \n",
    "    @fullname.setter\n",
    "    def fullname(self, name):\n",
    "        first, last = name.split(\" \")\n",
    "        self.first = first\n",
    "        self.last = last\n",
    "        \n",
    "    @fullname.deleter\n",
    "    def fullname(self):\n",
    "        print(\"Delete finished!\")\n",
    "        self.first = None\n",
    "        self.last = None\n",
    "\n",
    "emp_1 = Employee('Corey', 'Schafer', 50000)\n",
    "emp_1.fullname = \"Eve Chen\"\n",
    "print(emp_1.first)\n",
    "print(emp_1.fullname) #注意這邊不用再(), 因為他是attribute(有加上@property) \n",
    "print(emp_1.email)\n",
    "del emp_1.fullname\n",
    "print(emp_1.fullname)\n",
    "print(emp_1.email)"
   ]
  },
  {
   "cell_type": "code",
   "execution_count": null,
   "metadata": {
    "collapsed": true
   },
   "outputs": [],
   "source": []
  }
 ],
 "metadata": {
  "kernelspec": {
   "display_name": "Python 3",
   "language": "python",
   "name": "python3"
  },
  "language_info": {
   "codemirror_mode": {
    "name": "ipython",
    "version": 3
   },
   "file_extension": ".py",
   "mimetype": "text/x-python",
   "name": "python",
   "nbconvert_exporter": "python",
   "pygments_lexer": "ipython3",
   "version": "3.4.5"
  }
 },
 "nbformat": 4,
 "nbformat_minor": 2
}
